{
  "nbformat": 4,
  "nbformat_minor": 0,
  "metadata": {
    "colab": {
      "provenance": [],
      "machine_shape": "hm"
    },
    "kernelspec": {
      "name": "python3",
      "display_name": "Python 3"
    },
    "language_info": {
      "name": "python"
    },
    "accelerator": "GPU",
    "gpuClass": "standard"
  },
  "cells": [
    {
      "cell_type": "markdown",
      "source": [
        "# **EfficientNetB0 on CT Scan Data for classifying tumours as Benign or Malignant**"
      ],
      "metadata": {
        "id": "tpYTTc_MgsjH"
      }
    },
    {
      "cell_type": "markdown",
      "source": [
        "Code Sources: https://analyticsindiamag.com/implementing-efficientnet-a-powerful-convolutional-neural-network/\n",
        "\n",
        "https://keras.io/examples/vision/image_classification_efficientnet_fine_tuning/"
      ],
      "metadata": {
        "id": "vMk6pCgLBrFg"
      }
    },
    {
      "cell_type": "markdown",
      "source": [
        "**Mounting Google Drive**"
      ],
      "metadata": {
        "id": "XGxqT8C2WF1C"
      }
    },
    {
      "cell_type": "code",
      "source": [
        "from google.colab import drive\n",
        "drive.mount('/content/drive')"
      ],
      "metadata": {
        "colab": {
          "base_uri": "https://localhost:8080/"
        },
        "id": "bvUhkbLSUpY_",
        "outputId": "3d2568e6-4d9b-46ae-bb54-e55a653feabf"
      },
      "execution_count": null,
      "outputs": [
        {
          "output_type": "stream",
          "name": "stdout",
          "text": [
            "Drive already mounted at /content/drive; to attempt to forcibly remount, call drive.mount(\"/content/drive\", force_remount=True).\n"
          ]
        }
      ]
    },
    {
      "cell_type": "markdown",
      "source": [
        "**Imports**"
      ],
      "metadata": {
        "id": "6c2-eFCjWE3w"
      }
    },
    {
      "cell_type": "code",
      "source": [
        "import tensorflow as tf\n",
        "from matplotlib import pyplot\n",
        "import matplotlib.pyplot as plt\n",
        "import glob\n",
        "import os\n",
        "import cv2\n",
        "import math\n",
        "from keras import applications\n",
        "from keras.models import Sequential\n",
        "from keras.layers import Conv2D,MaxPooling2D,Convolution2D,Activation,Flatten,Dense,Dropout,MaxPool2D,BatchNormalization\n",
        "from tensorflow.keras.utils import to_categorical\n",
        "from keras.preprocessing.image import ImageDataGenerator\n",
        "import numpy as np\n",
        "from keras import backend as K\n",
        "\n",
        "import keras\n",
        "from keras.models import Sequential, Model,load_model\n",
        "from tensorflow.keras.optimizers import SGD\n",
        "from keras.callbacks import EarlyStopping,ModelCheckpoint\n",
        "from google.colab.patches import cv2_imshow\n",
        "from keras.layers import Input, Add, Dense, Activation, ZeroPadding2D, BatchNormalization, Flatten, Conv2D, AveragePooling2D, MaxPooling2D, GlobalMaxPooling2D,MaxPool2D\n",
        "from keras.preprocessing import image\n",
        "from keras.initializers import glorot_uniform\n",
        "\n",
        "import h5py\n",
        "import numpy as np\n",
        "# import cv2\n",
        "import keras\n",
        "from keras.models import Sequential\n",
        "from keras.layers import Convolution2D\n",
        "from keras.layers import MaxPooling2D\n",
        "from keras.layers import Flatten\n",
        "from keras.layers import Dense\n",
        "from keras.layers import Activation, Dropout\n",
        "from keras.preprocessing.image import ImageDataGenerator\n",
        "from PIL import ImageFile\n",
        "from sklearn.metrics import classification_report,confusion_matrix\n",
        "\n",
        "import pandas as pd\n",
        "import numpy as np\n",
        "# import os, cv2\n",
        "\n",
        "from scipy import misc\n",
        "\n",
        "import matplotlib.pyplot as plt\n",
        "import seaborn as sns\n",
        "# import pickle\n",
        "\n",
        "from sklearn.utils import shuffle\n",
        "from sklearn.model_selection import train_test_split\n",
        "\n",
        "\n",
        "import itertools\n",
        "import numpy as np\n",
        "import matplotlib.pyplot as plt\n",
        "\n",
        "from sklearn import svm, datasets\n",
        "from sklearn.model_selection import train_test_split\n",
        "from sklearn.metrics import confusion_matrix\n",
        "\n",
        "from keras.models import Sequential\n",
        "from keras.layers import Conv2D\n",
        "from keras.layers import MaxPooling2D\n",
        "from keras.layers import Flatten\n",
        "from keras.layers import Dense, Dropout\n",
        "from keras.preprocessing.image import ImageDataGenerator\n",
        "\n",
        "from tensorflow.keras.applications import EfficientNetB0"
      ],
      "metadata": {
        "id": "yaxZAaWiTlbM"
      },
      "execution_count": null,
      "outputs": []
    },
    {
      "cell_type": "code",
      "source": [
        "train_path=\"/content/drive/MyDrive/Assignments/Assignment 3/Model_Training_Dataset/Train/\"\n",
        "val_path=\"/content/drive/MyDrive/Assignments/Assignment 3/Model_Training_Dataset/Val/\"\n",
        "test_path=\"/content/drive/MyDrive/Assignments/Assignment 3/Model_Training_Dataset/Test/\"\n",
        "class_names=os.listdir(train_path)\n",
        "class_names_val=os.listdir(val_path)\n",
        "class_names_test=os.listdir(test_path)\n",
        "\n",
        "print(class_names)\n",
        "print(class_names_test)"
      ],
      "metadata": {
        "colab": {
          "base_uri": "https://localhost:8080/"
        },
        "id": "1H_deay7Upe-",
        "outputId": "7702c25f-7df1-4998-b279-c3ea531b0e0e"
      },
      "execution_count": null,
      "outputs": [
        {
          "output_type": "stream",
          "name": "stdout",
          "text": [
            "['Benign', 'Malignant']\n",
            "['Benign', 'Malignant']\n"
          ]
        }
      ]
    },
    {
      "cell_type": "code",
      "source": [
        "train_datagen = ImageDataGenerator(zoom_range=0.15,width_shift_range=0.2,height_shift_range=0.2,shear_range=0.15)\n",
        "val_datagen = ImageDataGenerator()\n",
        "test_datagen = ImageDataGenerator()"
      ],
      "metadata": {
        "id": "-vEU_vYMUphr"
      },
      "execution_count": null,
      "outputs": []
    },
    {
      "cell_type": "code",
      "source": [
        "train_generator = train_datagen.flow_from_directory(\"/content/drive/MyDrive/Assignments/Assignment 3/Model_Training_Dataset/Train/\",target_size=(224, 224),batch_size=32,shuffle=True,class_mode='binary')\n",
        "val_generator = val_datagen.flow_from_directory(\"/content/drive/MyDrive/Assignments/Assignment 3/Model_Training_Dataset/Val/\",target_size=(224,224),batch_size=32,shuffle=False,class_mode='binary')\n",
        "test_generator = test_datagen.flow_from_directory(\"/content/drive/MyDrive/Assignments/Assignment 3/Model_Training_Dataset/Test/\",target_size=(224,224),batch_size=32,shuffle=False,class_mode='binary')"
      ],
      "metadata": {
        "colab": {
          "base_uri": "https://localhost:8080/"
        },
        "id": "yDPU5CAQUplD",
        "outputId": "782c3041-b859-4533-cb95-dab66d00e060"
      },
      "execution_count": null,
      "outputs": [
        {
          "output_type": "stream",
          "name": "stdout",
          "text": [
            "Found 3644 images belonging to 2 classes.\n",
            "Found 1561 images belonging to 2 classes.\n",
            "Found 520 images belonging to 2 classes.\n"
          ]
        }
      ]
    },
    {
      "cell_type": "code",
      "source": [
        "test_generator.class_indices"
      ],
      "metadata": {
        "colab": {
          "base_uri": "https://localhost:8080/"
        },
        "id": "eIp-nTMcaCHh",
        "outputId": "6f181998-aa8c-4189-c603-58fcc12c2c07"
      },
      "execution_count": null,
      "outputs": [
        {
          "output_type": "execute_result",
          "data": {
            "text/plain": [
              "{'Benign': 0, 'Malignant': 1}"
            ]
          },
          "metadata": {},
          "execution_count": 6
        }
      ]
    },
    {
      "cell_type": "code",
      "source": [
        "import os\n",
        "\n",
        "train_benign_list = os.listdir(\"/content/drive/MyDrive/Assignments/Assignment 3/Model_Training_Dataset/Train/Benign\") # dir is your directory path\n",
        "train_benign_number_files = len(train_benign_list)\n",
        "train_benign_number_files\n"
      ],
      "metadata": {
        "colab": {
          "base_uri": "https://localhost:8080/"
        },
        "id": "AlPMd4i-TleK",
        "outputId": "49127cfd-595d-459f-d90d-2999981318ba"
      },
      "execution_count": null,
      "outputs": [
        {
          "output_type": "execute_result",
          "data": {
            "text/plain": [
              "2633"
            ]
          },
          "metadata": {},
          "execution_count": 7
        }
      ]
    },
    {
      "cell_type": "code",
      "source": [
        "train_malignant_list = os.listdir(\"/content/drive/MyDrive/Assignments/Assignment 3/Model_Training_Dataset/Train/Malignant\") # dir is your directory path\n",
        "train_malignant_number_files = len(train_malignant_list)\n",
        "train_malignant_number_files"
      ],
      "metadata": {
        "colab": {
          "base_uri": "https://localhost:8080/"
        },
        "id": "_UnoatyXV7rm",
        "outputId": "a9e2a23b-8b53-450f-c02e-88ecdfaeef59"
      },
      "execution_count": null,
      "outputs": [
        {
          "output_type": "execute_result",
          "data": {
            "text/plain": [
              "1011"
            ]
          },
          "metadata": {},
          "execution_count": 8
        }
      ]
    },
    {
      "cell_type": "code",
      "source": [
        "val_benign_list = os.listdir(\"/content/drive/MyDrive/Assignments/Assignment 3/Model_Training_Dataset/Val/Benign\") # dir is your directory path\n",
        "val_benign_number_files = len(val_benign_list)\n",
        "val_benign_number_files"
      ],
      "metadata": {
        "colab": {
          "base_uri": "https://localhost:8080/"
        },
        "id": "oPQkDqCsng0Q",
        "outputId": "ef1d5d45-58b5-4520-b51d-1aa1d2e323bc"
      },
      "execution_count": null,
      "outputs": [
        {
          "output_type": "execute_result",
          "data": {
            "text/plain": [
              "1128"
            ]
          },
          "metadata": {},
          "execution_count": 9
        }
      ]
    },
    {
      "cell_type": "code",
      "source": [
        "val_malignant_list = os.listdir(\"/content/drive/MyDrive/Assignments/Assignment 3/Model_Training_Dataset/Val/Malignant\") # dir is your directory path\n",
        "val_malignant_number_files = len(val_malignant_list)\n",
        "val_malignant_number_files"
      ],
      "metadata": {
        "colab": {
          "base_uri": "https://localhost:8080/"
        },
        "id": "AJFQdqwLng3l",
        "outputId": "2b16f2b3-1041-441b-bc81-49fc6d6cb918"
      },
      "execution_count": null,
      "outputs": [
        {
          "output_type": "execute_result",
          "data": {
            "text/plain": [
              "433"
            ]
          },
          "metadata": {},
          "execution_count": 10
        }
      ]
    },
    {
      "cell_type": "code",
      "source": [
        "test_benign_list = os.listdir(\"/content/drive/MyDrive/Assignments/Assignment 3/Model_Training_Dataset/Test/Benign\") # dir is your directory path\n",
        "test_benign_number_files = len(test_benign_list)\n",
        "test_benign_number_files"
      ],
      "metadata": {
        "colab": {
          "base_uri": "https://localhost:8080/"
        },
        "id": "3Y9n8_epV7u2",
        "outputId": "3ddd453f-9091-4dd5-a85a-c47804b7c440"
      },
      "execution_count": null,
      "outputs": [
        {
          "output_type": "execute_result",
          "data": {
            "text/plain": [
              "376"
            ]
          },
          "metadata": {},
          "execution_count": 11
        }
      ]
    },
    {
      "cell_type": "code",
      "source": [
        "test_malignant_list = os.listdir(\"/content/drive/MyDrive/Assignments/Assignment 3/Model_Training_Dataset/Test/Malignant\") # dir is your directory path\n",
        "test_malignant_number_files = len(test_malignant_list)\n",
        "test_malignant_number_files"
      ],
      "metadata": {
        "colab": {
          "base_uri": "https://localhost:8080/"
        },
        "id": "KRgQHmWiV7xx",
        "outputId": "fb8d9aed-e233-4ba8-d47c-dccf16a26b65"
      },
      "execution_count": null,
      "outputs": [
        {
          "output_type": "execute_result",
          "data": {
            "text/plain": [
              "144"
            ]
          },
          "metadata": {},
          "execution_count": 12
        }
      ]
    },
    {
      "cell_type": "code",
      "source": [
        "# plots images with labels within jupyter notebook\n",
        "def plots(ims, figsize=(16,10), rows=10, interp=False, titles=None):\n",
        "    if type(ims[0]) is np.ndarray:\n",
        "        ims = np.array(ims).astype(np.uint8)\n",
        "        if (ims.shape[-1] != 3):\n",
        "            ims = ims.transpose((0,2,3,1))\n",
        "    f = plt.figure(figsize=figsize)\n",
        "    cols = len(ims)//rows if len(ims) % 2 == 0 else len(ims)//rows + 1\n",
        "    for i in range(len(ims)):\n",
        "        sp = f.add_subplot(rows, cols, i+1)\n",
        "        sp.axis('off')\n",
        "        if titles is not None:\n",
        "            sp.set_title(titles[i], fontsize=12)\n",
        "        plt.imshow(ims[i], interpolation=None if interp else 'none')"
      ],
      "metadata": {
        "id": "yd45lE3-aGTE"
      },
      "execution_count": null,
      "outputs": []
    },
    {
      "cell_type": "code",
      "source": [
        "imgs, labels = next(train_generator)"
      ],
      "metadata": {
        "id": "imd7bINPaJfQ"
      },
      "execution_count": null,
      "outputs": []
    },
    {
      "cell_type": "code",
      "source": [
        "labels"
      ],
      "metadata": {
        "colab": {
          "base_uri": "https://localhost:8080/"
        },
        "id": "t8jwOetGdCgG",
        "outputId": "52db5cd8-9075-4083-a602-3edb0fdfc3c1"
      },
      "execution_count": null,
      "outputs": [
        {
          "output_type": "execute_result",
          "data": {
            "text/plain": [
              "array([0., 0., 0., 0., 0., 0., 0., 0., 0., 0., 0., 0., 0., 0., 0., 0., 0.,\n",
              "       1., 1., 0., 1., 0., 0., 0., 0., 1., 1., 0., 0., 0., 0., 1.],\n",
              "      dtype=float32)"
            ]
          },
          "metadata": {},
          "execution_count": 15
        }
      ]
    },
    {
      "cell_type": "markdown",
      "source": [
        "**Defining the architecture for VGG16**"
      ],
      "metadata": {
        "id": "M2L1DM_4WQEH"
      }
    },
    {
      "cell_type": "code",
      "source": [
        "base_model = EfficientNetB0(weights='imagenet', input_shape=(224,224,3), drop_connect_rate=0.4)\n",
        "\n",
        "EfficientNetB0_model= Sequential()\n",
        "EfficientNetB0_model.add(base_model)\n",
        "EfficientNetB0_model.add(Flatten())\n",
        "\n",
        "#Adding the Dense layers along with activation and batch normalization\n",
        "EfficientNetB0_model.add(Dense(1024,activation=('relu'),input_dim=512))\n",
        "\n",
        "EfficientNetB0_model.add(Dense(512,activation=('relu')))\n",
        "EfficientNetB0_model.add(Dense(256,activation=('relu')))\n",
        "#model.add(Dropout(.3))\n",
        "EfficientNetB0_model.add(Dense(128,activation=('relu')))\n",
        "#model.add(Dropout(.2))\n",
        "EfficientNetB0_model.add(Dense(10,activation=('softmax')))"
      ],
      "metadata": {
        "id": "e7ZvPzILXmCB",
        "colab": {
          "base_uri": "https://localhost:8080/"
        },
        "outputId": "789613ba-ad83-465d-99f9-b6c410281bee"
      },
      "execution_count": null,
      "outputs": [
        {
          "output_type": "stream",
          "name": "stdout",
          "text": [
            "Downloading data from https://storage.googleapis.com/keras-applications/efficientnetb0.h5\n",
            "21839872/21834768 [==============================] - 0s 0us/step\n",
            "21848064/21834768 [==============================] - 0s 0us/step\n"
          ]
        }
      ]
    },
    {
      "cell_type": "code",
      "source": [
        "EfficientNetB0_model.summary()"
      ],
      "metadata": {
        "colab": {
          "base_uri": "https://localhost:8080/"
        },
        "id": "AUIQp_cRXmFW",
        "outputId": "06d26fd7-c73e-4fa1-99fd-3fa439f01451"
      },
      "execution_count": null,
      "outputs": [
        {
          "output_type": "stream",
          "name": "stdout",
          "text": [
            "Model: \"sequential\"\n",
            "_________________________________________________________________\n",
            " Layer (type)                Output Shape              Param #   \n",
            "=================================================================\n",
            " efficientnetb0 (Functional)  (None, 1000)             5330571   \n",
            "                                                                 \n",
            " flatten (Flatten)           (None, 1000)              0         \n",
            "                                                                 \n",
            " dense (Dense)               (None, 1024)              1025024   \n",
            "                                                                 \n",
            " dense_1 (Dense)             (None, 512)               524800    \n",
            "                                                                 \n",
            " dense_2 (Dense)             (None, 256)               131328    \n",
            "                                                                 \n",
            " dense_3 (Dense)             (None, 128)               32896     \n",
            "                                                                 \n",
            " dense_4 (Dense)             (None, 10)                1290      \n",
            "                                                                 \n",
            "=================================================================\n",
            "Total params: 7,045,909\n",
            "Trainable params: 7,003,886\n",
            "Non-trainable params: 42,023\n",
            "_________________________________________________________________\n"
          ]
        }
      ]
    },
    {
      "cell_type": "code",
      "source": [
        "dot_img_file = '/content/drive/MyDrive/Assignments/Assignment 3/EfficentNetB0.png'\n",
        "tf.keras.utils.plot_model(EfficientNetB0_model, to_file=dot_img_file, show_shapes=True)"
      ],
      "metadata": {
        "colab": {
          "base_uri": "https://localhost:8080/",
          "height": 865
        },
        "id": "-XzlUomea_NS",
        "outputId": "3f7b29e4-01bc-4712-fac0-e2ca663287b9"
      },
      "execution_count": null,
      "outputs": [
        {
          "output_type": "execute_result",
          "data": {
            "text/plain": [
              "<IPython.core.display.Image object>"
            ],
            "image/png": "[encoded data removed]"
          },
          "metadata": {},
          "execution_count": 18
        }
      ]
    },
    {
      "cell_type": "code",
      "source": [
        "classifier = Sequential()\n",
        "for layer in EfficientNetB0_model.layers:\n",
        "    classifier.add(layer)"
      ],
      "metadata": {
        "id": "os809DoFajMb"
      },
      "execution_count": null,
      "outputs": []
    },
    {
      "cell_type": "code",
      "source": [
        "classifier.add(Dense(units = 2, activation = 'relu'))  # 2 classes"
      ],
      "metadata": {
        "id": "jpoewJZPanMa"
      },
      "execution_count": null,
      "outputs": []
    },
    {
      "cell_type": "code",
      "source": [
        "classifier.summary()"
      ],
      "metadata": {
        "colab": {
          "base_uri": "https://localhost:8080/"
        },
        "id": "JcnN1T-OanP2",
        "outputId": "915dad11-d39a-4315-afac-555cc84d9de8"
      },
      "execution_count": null,
      "outputs": [
        {
          "output_type": "stream",
          "name": "stdout",
          "text": [
            "Model: \"sequential_1\"\n",
            "_________________________________________________________________\n",
            " Layer (type)                Output Shape              Param #   \n",
            "=================================================================\n",
            " efficientnetb0 (Functional)  (None, 1000)             5330571   \n",
            "                                                                 \n",
            " flatten (Flatten)           (None, 1000)              0         \n",
            "                                                                 \n",
            " dense (Dense)               (None, 1024)              1025024   \n",
            "                                                                 \n",
            " dense_1 (Dense)             (None, 512)               524800    \n",
            "                                                                 \n",
            " dense_2 (Dense)             (None, 256)               131328    \n",
            "                                                                 \n",
            " dense_3 (Dense)             (None, 128)               32896     \n",
            "                                                                 \n",
            " dense_4 (Dense)             (None, 10)                1290      \n",
            "                                                                 \n",
            " dense_5 (Dense)             (None, 2)                 22        \n",
            "                                                                 \n",
            "=================================================================\n",
            "Total params: 7,045,931\n",
            "Trainable params: 7,003,908\n",
            "Non-trainable params: 42,023\n",
            "_________________________________________________________________\n"
          ]
        }
      ]
    },
    {
      "cell_type": "markdown",
      "source": [
        "**Preprocessing the train and test images before training and validating the VGG16 model**"
      ],
      "metadata": {
        "id": "x8wDFu5OgPsl"
      }
    },
    {
      "cell_type": "code",
      "source": [
        "from keras.preprocessing.image import ImageDataGenerator\n",
        "\n",
        "#Applying Augmentaion on data to avoid overfitting\n",
        "train_datagen = ImageDataGenerator(rescale = 1./255,shear_range = 0.2,zoom_range = 0.2,horizontal_flip = True)\n",
        "val_datagen = ImageDataGenerator(rescale = 1./255)\n",
        "test_datagen = ImageDataGenerator(rescale = 1./255)\n",
        "training_set =train_datagen.flow_from_directory('/content/drive/MyDrive/Assignments/Assignment 3/Model_Training_Dataset/Train/',target_size = (224, 224),batch_size = 8,class_mode = 'binary')\n",
        "val_set = val_datagen.flow_from_directory('/content/drive/MyDrive/Assignments/Assignment 3/Model_Training_Dataset/Val/',target_size = (224, 224),batch_size = 8,class_mode = 'binary')\n",
        "test_set = test_datagen.flow_from_directory('/content/drive/MyDrive/Assignments/Assignment 3/Model_Training_Dataset/Test/',target_size = (224, 224),batch_size = 8,class_mode = 'binary')\n",
        "type(training_set)"
      ],
      "metadata": {
        "colab": {
          "base_uri": "https://localhost:8080/"
        },
        "id": "6V-bwubGgPSq",
        "outputId": "cd31d59c-a7c6-4f61-e6d3-e00b08d3a705"
      },
      "execution_count": null,
      "outputs": [
        {
          "output_type": "stream",
          "name": "stdout",
          "text": [
            "Found 3644 images belonging to 2 classes.\n",
            "Found 1561 images belonging to 2 classes.\n",
            "Found 520 images belonging to 2 classes.\n"
          ]
        },
        {
          "output_type": "execute_result",
          "data": {
            "text/plain": [
              "keras.preprocessing.image.DirectoryIterator"
            ]
          },
          "metadata": {},
          "execution_count": 22
        }
      ]
    },
    {
      "cell_type": "markdown",
      "source": [
        "### **Train with VGG19**"
      ],
      "metadata": {
        "id": "F2q8mYNsbHMf"
      }
    },
    {
      "cell_type": "code",
      "source": [
        "classifier.compile(optimizer = 'adam', loss = 'binary_crossentropy', metrics = ['accuracy'])"
      ],
      "metadata": {
        "id": "-fLlleBXWU1Y"
      },
      "execution_count": null,
      "outputs": []
    },
    {
      "cell_type": "code",
      "source": [
        "history = classifier.fit(training_set, steps_per_epoch = 20, validation_data = test_set, validation_steps = 20, epochs = 200, verbose = 2)"
      ],
      "metadata": {
        "colab": {
          "base_uri": "https://localhost:8080/"
        },
        "id": "oVcDozTyWU4P",
        "outputId": "70bab5c4-49e1-4d0c-d3c1-639ddbe7c4f9"
      },
      "execution_count": null,
      "outputs": [
        {
          "output_type": "stream",
          "name": "stdout",
          "text": [
            "Epoch 1/200\n",
            "20/20 - 61s - loss: 2.0386 - accuracy: 0.7625 - val_loss: 0.7314 - val_accuracy: 0.7437 - 61s/epoch - 3s/step\n",
            "Epoch 2/200\n",
            "20/20 - 33s - loss: 0.6299 - accuracy: 0.6687 - val_loss: 0.6264 - val_accuracy: 0.7250 - 33s/epoch - 2s/step\n",
            "Epoch 3/200\n",
            "20/20 - 25s - loss: 0.5053 - accuracy: 0.7250 - val_loss: 0.7014 - val_accuracy: 0.7063 - 25s/epoch - 1s/step\n",
            "Epoch 4/200\n",
            "20/20 - 20s - loss: 0.4972 - accuracy: 0.6750 - val_loss: 2.2702 - val_accuracy: 0.7500 - 20s/epoch - 978ms/step\n",
            "Epoch 5/200\n",
            "20/20 - 14s - loss: 0.4282 - accuracy: 0.7625 - val_loss: 4.2419 - val_accuracy: 0.7250 - 14s/epoch - 699ms/step\n",
            "Epoch 6/200\n",
            "20/20 - 11s - loss: 0.7700 - accuracy: 0.7312 - val_loss: 3.5670 - val_accuracy: 0.7688 - 11s/epoch - 537ms/step\n",
            "Epoch 7/200\n",
            "20/20 - 10s - loss: 2.4106 - accuracy: 0.7437 - val_loss: 4.9167 - val_accuracy: 0.6812 - 10s/epoch - 523ms/step\n",
            "Epoch 8/200\n",
            "20/20 - 7s - loss: 1.8282 - accuracy: 0.7750 - val_loss: 4.1455 - val_accuracy: 0.7312 - 7s/epoch - 351ms/step\n",
            "Epoch 9/200\n",
            "20/20 - 9s - loss: 2.7187 - accuracy: 0.7750 - val_loss: 4.6275 - val_accuracy: 0.7000 - 9s/epoch - 425ms/step\n",
            "Epoch 10/200\n",
            "20/20 - 8s - loss: 3.5525 - accuracy: 0.7625 - val_loss: 4.2419 - val_accuracy: 0.7250 - 8s/epoch - 392ms/step\n",
            "Epoch 11/200\n",
            "20/20 - 8s - loss: 2.8064 - accuracy: 0.7500 - val_loss: 4.4347 - val_accuracy: 0.7125 - 8s/epoch - 386ms/step\n",
            "Epoch 12/200\n",
            "20/20 - 8s - loss: 2.6606 - accuracy: 0.7625 - val_loss: 2.4625 - val_accuracy: 0.7563 - 8s/epoch - 388ms/step\n",
            "Epoch 13/200\n",
            "20/20 - 8s - loss: 0.7294 - accuracy: 0.7063 - val_loss: 0.6481 - val_accuracy: 0.7937 - 8s/epoch - 414ms/step\n",
            "Epoch 14/200\n",
            "20/20 - 8s - loss: 0.6577 - accuracy: 0.7125 - val_loss: 0.6423 - val_accuracy: 0.7437 - 8s/epoch - 400ms/step\n",
            "Epoch 15/200\n",
            "20/20 - 7s - loss: 0.6384 - accuracy: 0.7312 - val_loss: 0.6511 - val_accuracy: 0.6750 - 7s/epoch - 345ms/step\n",
            "Epoch 16/200\n",
            "20/20 - 7s - loss: 0.6377 - accuracy: 0.7000 - val_loss: 0.6290 - val_accuracy: 0.7125 - 7s/epoch - 364ms/step\n",
            "Epoch 17/200\n",
            "20/20 - 7s - loss: 0.6368 - accuracy: 0.6875 - val_loss: 0.6049 - val_accuracy: 0.7500 - 7s/epoch - 360ms/step\n",
            "Epoch 18/200\n",
            "20/20 - 6s - loss: 0.5780 - accuracy: 0.7937 - val_loss: 0.5981 - val_accuracy: 0.7437 - 6s/epoch - 277ms/step\n",
            "Epoch 19/200\n",
            "20/20 - 6s - loss: 0.6046 - accuracy: 0.7250 - val_loss: 0.5762 - val_accuracy: 0.7688 - 6s/epoch - 284ms/step\n",
            "Epoch 20/200\n",
            "20/20 - 6s - loss: 0.6127 - accuracy: 0.7063 - val_loss: 0.6028 - val_accuracy: 0.7188 - 6s/epoch - 288ms/step\n",
            "Epoch 21/200\n",
            "20/20 - 5s - loss: 0.6237 - accuracy: 0.6875 - val_loss: 0.6094 - val_accuracy: 0.7063 - 5s/epoch - 247ms/step\n",
            "Epoch 22/200\n",
            "20/20 - 6s - loss: 0.6312 - accuracy: 0.6750 - val_loss: 0.6353 - val_accuracy: 0.6687 - 6s/epoch - 287ms/step\n",
            "Epoch 23/200\n",
            "20/20 - 5s - loss: 0.6092 - accuracy: 0.7063 - val_loss: 0.5779 - val_accuracy: 0.7500 - 5s/epoch - 238ms/step\n",
            "Epoch 24/200\n",
            "20/20 - 6s - loss: 0.5577 - accuracy: 0.7750 - val_loss: 0.5976 - val_accuracy: 0.7188 - 6s/epoch - 276ms/step\n",
            "Epoch 25/200\n",
            "20/20 - 5s - loss: 0.6113 - accuracy: 0.7000 - val_loss: 0.5768 - val_accuracy: 0.7437 - 5s/epoch - 262ms/step\n",
            "Epoch 26/200\n",
            "20/20 - 6s - loss: 0.6212 - accuracy: 0.6875 - val_loss: 0.6111 - val_accuracy: 0.7000 - 6s/epoch - 285ms/step\n",
            "Epoch 27/200\n",
            "20/20 - 6s - loss: 0.6365 - accuracy: 0.6687 - val_loss: 0.5673 - val_accuracy: 0.7563 - 6s/epoch - 287ms/step\n",
            "Epoch 28/200\n",
            "20/20 - 4s - loss: 0.5918 - accuracy: 0.7250 - val_loss: 0.6009 - val_accuracy: 0.7125 - 4s/epoch - 208ms/step\n",
            "Epoch 29/200\n",
            "20/20 - 4s - loss: 0.5907 - accuracy: 0.7250 - val_loss: 0.5851 - val_accuracy: 0.7312 - 4s/epoch - 206ms/step\n",
            "Epoch 30/200\n",
            "20/20 - 5s - loss: 0.5525 - accuracy: 0.7564 - val_loss: 0.5893 - val_accuracy: 0.2750 - 5s/epoch - 246ms/step\n",
            "Epoch 31/200\n",
            "20/20 - 5s - loss: 0.6112 - accuracy: 0.3000 - val_loss: 0.5778 - val_accuracy: 0.2625 - 5s/epoch - 259ms/step\n",
            "Epoch 32/200\n",
            "20/20 - 4s - loss: 0.6222 - accuracy: 0.3125 - val_loss: 0.6055 - val_accuracy: 0.2937 - 4s/epoch - 180ms/step\n",
            "Epoch 33/200\n",
            "20/20 - 5s - loss: 0.6001 - accuracy: 0.2875 - val_loss: 0.5508 - val_accuracy: 0.2313 - 5s/epoch - 250ms/step\n",
            "Epoch 34/200\n",
            "20/20 - 5s - loss: 0.6166 - accuracy: 0.3063 - val_loss: 0.5781 - val_accuracy: 0.2625 - 5s/epoch - 251ms/step\n",
            "Epoch 35/200\n",
            "20/20 - 4s - loss: 0.6218 - accuracy: 0.3625 - val_loss: 0.6163 - val_accuracy: 0.6938 - 4s/epoch - 210ms/step\n",
            "Epoch 36/200\n",
            "20/20 - 4s - loss: 0.5457 - accuracy: 0.4125 - val_loss: 0.5775 - val_accuracy: 0.2625 - 4s/epoch - 195ms/step\n",
            "Epoch 37/200\n",
            "20/20 - 4s - loss: 0.5715 - accuracy: 0.2562 - val_loss: 0.6346 - val_accuracy: 0.3250 - 4s/epoch - 209ms/step\n",
            "Epoch 38/200\n",
            "20/20 - 4s - loss: 0.5884 - accuracy: 0.2750 - val_loss: 0.6000 - val_accuracy: 0.2875 - 4s/epoch - 201ms/step\n",
            "Epoch 39/200\n",
            "20/20 - 4s - loss: 0.5528 - accuracy: 0.2375 - val_loss: 0.5821 - val_accuracy: 0.2688 - 4s/epoch - 184ms/step\n",
            "Epoch 40/200\n",
            "20/20 - 3s - loss: 0.5892 - accuracy: 0.2750 - val_loss: 0.5945 - val_accuracy: 0.2812 - 3s/epoch - 172ms/step\n",
            "Epoch 41/200\n",
            "20/20 - 4s - loss: 0.5759 - accuracy: 0.2625 - val_loss: 0.5636 - val_accuracy: 0.2500 - 4s/epoch - 181ms/step\n",
            "Epoch 42/200\n",
            "20/20 - 4s - loss: 0.5262 - accuracy: 0.2125 - val_loss: 0.5949 - val_accuracy: 0.2812 - 4s/epoch - 198ms/step\n",
            "Epoch 43/200\n",
            "20/20 - 4s - loss: 0.6708 - accuracy: 0.3562 - val_loss: 0.5882 - val_accuracy: 0.2750 - 4s/epoch - 192ms/step\n",
            "Epoch 44/200\n",
            "20/20 - 5s - loss: 0.6254 - accuracy: 0.5750 - val_loss: 0.6344 - val_accuracy: 0.6750 - 5s/epoch - 235ms/step\n",
            "Epoch 45/200\n",
            "20/20 - 4s - loss: 0.6001 - accuracy: 0.7125 - val_loss: 0.6520 - val_accuracy: 0.6562 - 4s/epoch - 198ms/step\n",
            "Epoch 46/200\n",
            "20/20 - 3s - loss: 0.5479 - accuracy: 0.7688 - val_loss: 0.5882 - val_accuracy: 0.2750 - 3s/epoch - 165ms/step\n",
            "Epoch 47/200\n",
            "20/20 - 4s - loss: 0.6063 - accuracy: 0.2937 - val_loss: 0.6120 - val_accuracy: 0.3000 - 4s/epoch - 185ms/step\n",
            "Epoch 48/200\n",
            "20/20 - 4s - loss: 0.6124 - accuracy: 0.6375 - val_loss: 0.5826 - val_accuracy: 0.7312 - 4s/epoch - 190ms/step\n",
            "Epoch 49/200\n",
            "20/20 - 4s - loss: 0.6118 - accuracy: 0.7000 - val_loss: 0.5710 - val_accuracy: 0.7437 - 4s/epoch - 197ms/step\n",
            "Epoch 50/200\n",
            "20/20 - 3s - loss: 0.5412 - accuracy: 0.5577 - val_loss: 0.6001 - val_accuracy: 0.2875 - 3s/epoch - 155ms/step\n",
            "Epoch 51/200\n",
            "20/20 - 3s - loss: 0.5885 - accuracy: 0.2750 - val_loss: 0.5882 - val_accuracy: 0.2750 - 3s/epoch - 174ms/step\n",
            "Epoch 52/200\n",
            "20/20 - 4s - loss: 0.6480 - accuracy: 0.3500 - val_loss: 0.5824 - val_accuracy: 0.7312 - 4s/epoch - 183ms/step\n",
            "Epoch 53/200\n",
            "20/20 - 3s - loss: 0.5531 - accuracy: 0.7625 - val_loss: 0.5647 - val_accuracy: 0.7500 - 3s/epoch - 163ms/step\n",
            "Epoch 54/200\n",
            "20/20 - 3s - loss: 0.5037 - accuracy: 0.3000 - val_loss: 0.6070 - val_accuracy: 0.2937 - 3s/epoch - 145ms/step\n",
            "Epoch 55/200\n",
            "20/20 - 4s - loss: 0.5628 - accuracy: 0.2500 - val_loss: 0.5821 - val_accuracy: 0.2688 - 4s/epoch - 184ms/step\n",
            "Epoch 56/200\n",
            "20/20 - 3s - loss: 0.5887 - accuracy: 0.2750 - val_loss: 0.5951 - val_accuracy: 0.2812 - 3s/epoch - 168ms/step\n",
            "Epoch 57/200\n",
            "20/20 - 3s - loss: 0.6274 - accuracy: 0.3125 - val_loss: 0.5945 - val_accuracy: 0.2812 - 3s/epoch - 174ms/step\n",
            "Epoch 58/200\n",
            "20/20 - 3s - loss: 0.6069 - accuracy: 0.5188 - val_loss: 0.5821 - val_accuracy: 0.7312 - 3s/epoch - 150ms/step\n",
            "Epoch 59/200\n",
            "20/20 - 3s - loss: 0.6246 - accuracy: 0.6875 - val_loss: 0.6121 - val_accuracy: 0.7000 - 3s/epoch - 139ms/step\n",
            "Epoch 60/200\n",
            "20/20 - 4s - loss: 0.6117 - accuracy: 0.7000 - val_loss: 0.5419 - val_accuracy: 0.7750 - 4s/epoch - 176ms/step\n",
            "Epoch 61/200\n",
            "20/20 - 3s - loss: 0.5597 - accuracy: 0.7563 - val_loss: 0.5941 - val_accuracy: 0.7188 - 3s/epoch - 151ms/step\n",
            "Epoch 62/200\n",
            "20/20 - 3s - loss: 0.6119 - accuracy: 0.7000 - val_loss: 0.6000 - val_accuracy: 0.7125 - 3s/epoch - 144ms/step\n",
            "Epoch 63/200\n",
            "20/20 - 3s - loss: 0.6352 - accuracy: 0.6750 - val_loss: 0.5885 - val_accuracy: 0.7250 - 3s/epoch - 156ms/step\n",
            "Epoch 64/200\n",
            "20/20 - 3s - loss: 0.5830 - accuracy: 0.7312 - val_loss: 0.5715 - val_accuracy: 0.7437 - 3s/epoch - 159ms/step\n",
            "Epoch 65/200\n",
            "20/20 - 3s - loss: 0.5833 - accuracy: 0.7312 - val_loss: 0.5429 - val_accuracy: 0.7750 - 3s/epoch - 150ms/step\n",
            "Epoch 66/200\n",
            "20/20 - 3s - loss: 0.6064 - accuracy: 0.7063 - val_loss: 0.5711 - val_accuracy: 0.7437 - 3s/epoch - 140ms/step\n",
            "Epoch 67/200\n",
            "20/20 - 3s - loss: 0.5886 - accuracy: 0.7250 - val_loss: 0.5941 - val_accuracy: 0.2812 - 3s/epoch - 137ms/step\n",
            "Epoch 68/200\n",
            "20/20 - 3s - loss: 0.6069 - accuracy: 0.3462 - val_loss: 0.5767 - val_accuracy: 0.7375 - 3s/epoch - 173ms/step\n",
            "Epoch 69/200\n",
            "20/20 - 3s - loss: 0.5768 - accuracy: 0.7375 - val_loss: 0.6000 - val_accuracy: 0.7125 - 3s/epoch - 150ms/step\n",
            "Epoch 70/200\n",
            "20/20 - 3s - loss: 0.6176 - accuracy: 0.6938 - val_loss: 0.5771 - val_accuracy: 0.7375 - 3s/epoch - 138ms/step\n",
            "Epoch 71/200\n",
            "20/20 - 3s - loss: 0.6000 - accuracy: 0.7125 - val_loss: 0.5829 - val_accuracy: 0.7312 - 3s/epoch - 139ms/step\n",
            "Epoch 72/200\n",
            "20/20 - 3s - loss: 0.5887 - accuracy: 0.7250 - val_loss: 0.6113 - val_accuracy: 0.7000 - 3s/epoch - 158ms/step\n",
            "Epoch 73/200\n",
            "20/20 - 3s - loss: 0.6675 - accuracy: 0.6375 - val_loss: 0.5780 - val_accuracy: 0.7375 - 3s/epoch - 136ms/step\n",
            "Epoch 74/200\n",
            "20/20 - 3s - loss: 0.5840 - accuracy: 0.7312 - val_loss: 0.5893 - val_accuracy: 0.7250 - 3s/epoch - 146ms/step\n",
            "Epoch 75/200\n",
            "20/20 - 3s - loss: 0.6056 - accuracy: 0.7063 - val_loss: 0.6001 - val_accuracy: 0.7125 - 3s/epoch - 144ms/step\n",
            "Epoch 76/200\n",
            "20/20 - 3s - loss: 0.6271 - accuracy: 0.6812 - val_loss: 0.6163 - val_accuracy: 0.6938 - 3s/epoch - 157ms/step\n",
            "Epoch 77/200\n",
            "20/20 - 3s - loss: 0.5344 - accuracy: 0.6750 - val_loss: 0.5829 - val_accuracy: 0.2688 - 3s/epoch - 143ms/step\n",
            "Epoch 78/200\n",
            "20/20 - 3s - loss: 0.6397 - accuracy: 0.3313 - val_loss: 0.6168 - val_accuracy: 0.3063 - 3s/epoch - 139ms/step\n",
            "Epoch 79/200\n",
            "20/20 - 3s - loss: 0.6350 - accuracy: 0.5962 - val_loss: 0.6109 - val_accuracy: 0.7000 - 3s/epoch - 136ms/step\n",
            "Epoch 80/200\n",
            "20/20 - 3s - loss: 0.5734 - accuracy: 0.7437 - val_loss: 0.5838 - val_accuracy: 0.7312 - 3s/epoch - 130ms/step\n",
            "Epoch 81/200\n",
            "20/20 - 3s - loss: 0.5835 - accuracy: 0.6187 - val_loss: 0.6111 - val_accuracy: 0.3000 - 3s/epoch - 147ms/step\n",
            "Epoch 82/200\n",
            "20/20 - 3s - loss: 0.6008 - accuracy: 0.2875 - val_loss: 0.5827 - val_accuracy: 0.2688 - 3s/epoch - 131ms/step\n",
            "Epoch 83/200\n",
            "20/20 - 3s - loss: 0.5946 - accuracy: 0.2812 - val_loss: 0.5537 - val_accuracy: 0.2375 - 3s/epoch - 129ms/step\n",
            "Epoch 84/200\n",
            "20/20 - 3s - loss: 0.5596 - accuracy: 0.2438 - val_loss: 0.5824 - val_accuracy: 0.2688 - 3s/epoch - 153ms/step\n",
            "Epoch 85/200\n",
            "20/20 - 3s - loss: 0.5526 - accuracy: 0.2375 - val_loss: 0.5942 - val_accuracy: 0.2812 - 3s/epoch - 133ms/step\n",
            "Epoch 86/200\n",
            "20/20 - 3s - loss: 0.6368 - accuracy: 0.3250 - val_loss: 0.6240 - val_accuracy: 0.3125 - 3s/epoch - 137ms/step\n",
            "Epoch 87/200\n",
            "20/20 - 3s - loss: 0.6181 - accuracy: 0.3063 - val_loss: 0.5587 - val_accuracy: 0.2438 - 3s/epoch - 155ms/step\n",
            "Epoch 88/200\n",
            "20/20 - 3s - loss: 0.6234 - accuracy: 0.6250 - val_loss: 0.6670 - val_accuracy: 0.6375 - 3s/epoch - 139ms/step\n",
            "Epoch 89/200\n",
            "20/20 - 3s - loss: 0.5549 - accuracy: 0.7625 - val_loss: 0.6342 - val_accuracy: 0.6750 - 3s/epoch - 140ms/step\n",
            "Epoch 90/200\n",
            "20/20 - 3s - loss: 0.5532 - accuracy: 0.3375 - val_loss: 0.5581 - val_accuracy: 0.2438 - 3s/epoch - 131ms/step\n",
            "Epoch 91/200\n",
            "20/20 - 3s - loss: 0.5637 - accuracy: 0.2500 - val_loss: 0.6005 - val_accuracy: 0.2875 - 3s/epoch - 130ms/step\n",
            "Epoch 92/200\n",
            "20/20 - 3s - loss: 0.5885 - accuracy: 0.2750 - val_loss: 0.6448 - val_accuracy: 0.3313 - 3s/epoch - 131ms/step\n",
            "Epoch 93/200\n",
            "20/20 - 3s - loss: 0.5633 - accuracy: 0.2500 - val_loss: 0.6205 - val_accuracy: 0.3063 - 3s/epoch - 131ms/step\n",
            "Epoch 94/200\n",
            "20/20 - 3s - loss: 0.6699 - accuracy: 0.3688 - val_loss: 0.6182 - val_accuracy: 0.6938 - 3s/epoch - 131ms/step\n",
            "Epoch 95/200\n",
            "20/20 - 3s - loss: 0.5767 - accuracy: 0.7375 - val_loss: 0.6234 - val_accuracy: 0.6875 - 3s/epoch - 142ms/step\n",
            "Epoch 96/200\n",
            "20/20 - 3s - loss: 0.5707 - accuracy: 0.7437 - val_loss: 0.5408 - val_accuracy: 0.7750 - 3s/epoch - 130ms/step\n",
            "Epoch 97/200\n",
            "20/20 - 3s - loss: 0.5522 - accuracy: 0.4000 - val_loss: 0.5820 - val_accuracy: 0.2688 - 3s/epoch - 132ms/step\n",
            "Epoch 98/200\n",
            "20/20 - 3s - loss: 0.5761 - accuracy: 0.2625 - val_loss: 0.5757 - val_accuracy: 0.2625 - 3s/epoch - 135ms/step\n",
            "Epoch 99/200\n",
            "20/20 - 3s - loss: 0.6600 - accuracy: 0.4872 - val_loss: 0.6593 - val_accuracy: 0.6500 - 3s/epoch - 129ms/step\n",
            "Epoch 100/200\n",
            "20/20 - 3s - loss: 0.5587 - accuracy: 0.7563 - val_loss: 0.6242 - val_accuracy: 0.6875 - 3s/epoch - 133ms/step\n",
            "Epoch 101/200\n",
            "20/20 - 3s - loss: 0.6420 - accuracy: 0.6687 - val_loss: 0.5885 - val_accuracy: 0.7250 - 3s/epoch - 140ms/step\n",
            "Epoch 102/200\n",
            "20/20 - 3s - loss: 0.6672 - accuracy: 0.6375 - val_loss: 0.5579 - val_accuracy: 0.7625 - 3s/epoch - 129ms/step\n",
            "Epoch 103/200\n",
            "20/20 - 3s - loss: 0.6626 - accuracy: 0.6375 - val_loss: 0.5662 - val_accuracy: 0.7563 - 3s/epoch - 143ms/step\n",
            "Epoch 104/200\n",
            "20/20 - 3s - loss: 0.5915 - accuracy: 0.7250 - val_loss: 0.6262 - val_accuracy: 0.6812 - 3s/epoch - 130ms/step\n",
            "Epoch 105/200\n",
            "20/20 - 3s - loss: 0.5711 - accuracy: 0.7500 - val_loss: 0.6316 - val_accuracy: 0.6750 - 3s/epoch - 133ms/step\n",
            "Epoch 106/200\n",
            "20/20 - 3s - loss: 0.5571 - accuracy: 0.7250 - val_loss: 0.5833 - val_accuracy: 0.2688 - 3s/epoch - 133ms/step\n",
            "Epoch 107/200\n",
            "20/20 - 3s - loss: 0.5830 - accuracy: 0.2688 - val_loss: 0.6228 - val_accuracy: 0.3125 - 3s/epoch - 130ms/step\n",
            "Epoch 108/200\n",
            "20/20 - 3s - loss: 0.5470 - accuracy: 0.2313 - val_loss: 0.5821 - val_accuracy: 0.2688 - 3s/epoch - 136ms/step\n",
            "Epoch 109/200\n",
            "20/20 - 3s - loss: 0.6006 - accuracy: 0.2875 - val_loss: 0.5204 - val_accuracy: 0.2062 - 3s/epoch - 131ms/step\n",
            "Epoch 110/200\n",
            "20/20 - 3s - loss: 0.5825 - accuracy: 0.2688 - val_loss: 0.5821 - val_accuracy: 0.2688 - 3s/epoch - 133ms/step\n",
            "Epoch 111/200\n",
            "20/20 - 3s - loss: 0.6248 - accuracy: 0.3125 - val_loss: 0.5761 - val_accuracy: 0.2625 - 3s/epoch - 130ms/step\n",
            "Epoch 112/200\n",
            "20/20 - 3s - loss: 0.6239 - accuracy: 0.3875 - val_loss: 0.5825 - val_accuracy: 0.7312 - 3s/epoch - 130ms/step\n",
            "Epoch 113/200\n",
            "20/20 - 3s - loss: 0.6002 - accuracy: 0.7125 - val_loss: 0.5885 - val_accuracy: 0.7250 - 3s/epoch - 138ms/step\n",
            "Epoch 114/200\n",
            "20/20 - 3s - loss: 0.5713 - accuracy: 0.7437 - val_loss: 0.5999 - val_accuracy: 0.7125 - 3s/epoch - 131ms/step\n",
            "Epoch 115/200\n",
            "20/20 - 3s - loss: 0.5827 - accuracy: 0.4938 - val_loss: 0.5584 - val_accuracy: 0.2438 - 3s/epoch - 132ms/step\n",
            "Epoch 116/200\n",
            "20/20 - 3s - loss: 0.5708 - accuracy: 0.2562 - val_loss: 0.5574 - val_accuracy: 0.2438 - 3s/epoch - 143ms/step\n",
            "Epoch 117/200\n",
            "20/20 - 3s - loss: 0.6005 - accuracy: 0.2875 - val_loss: 0.5821 - val_accuracy: 0.2688 - 3s/epoch - 156ms/step\n",
            "Epoch 118/200\n",
            "20/20 - 3s - loss: 0.5583 - accuracy: 0.2438 - val_loss: 0.6004 - val_accuracy: 0.2875 - 3s/epoch - 136ms/step\n",
            "Epoch 119/200\n",
            "20/20 - 3s - loss: 0.6069 - accuracy: 0.2937 - val_loss: 0.5820 - val_accuracy: 0.2688 - 3s/epoch - 150ms/step\n",
            "Epoch 120/200\n",
            "20/20 - 3s - loss: 0.6007 - accuracy: 0.2875 - val_loss: 0.5640 - val_accuracy: 0.2500 - 3s/epoch - 134ms/step\n",
            "Epoch 121/200\n",
            "20/20 - 3s - loss: 0.6593 - accuracy: 0.6500 - val_loss: 0.6112 - val_accuracy: 0.7000 - 3s/epoch - 129ms/step\n",
            "Epoch 122/200\n",
            "20/20 - 3s - loss: 0.5944 - accuracy: 0.7188 - val_loss: 0.6335 - val_accuracy: 0.6750 - 3s/epoch - 130ms/step\n",
            "Epoch 123/200\n",
            "20/20 - 3s - loss: 0.6002 - accuracy: 0.7125 - val_loss: 0.5608 - val_accuracy: 0.7563 - 3s/epoch - 131ms/step\n",
            "Epoch 124/200\n",
            "20/20 - 3s - loss: 0.6116 - accuracy: 0.7000 - val_loss: 0.6055 - val_accuracy: 0.7063 - 3s/epoch - 130ms/step\n",
            "Epoch 125/200\n",
            "20/20 - 3s - loss: 0.5723 - accuracy: 0.7437 - val_loss: 0.5830 - val_accuracy: 0.7312 - 3s/epoch - 153ms/step\n",
            "Epoch 126/200\n",
            "20/20 - 3s - loss: 0.6187 - accuracy: 0.6154 - val_loss: 0.5885 - val_accuracy: 0.7250 - 3s/epoch - 130ms/step\n",
            "Epoch 127/200\n",
            "20/20 - 3s - loss: 0.5012 - accuracy: 0.3438 - val_loss: 0.6004 - val_accuracy: 0.2875 - 3s/epoch - 132ms/step\n",
            "Epoch 128/200\n",
            "20/20 - 3s - loss: 0.6008 - accuracy: 0.2875 - val_loss: 0.5384 - val_accuracy: 0.2250 - 3s/epoch - 130ms/step\n",
            "Epoch 129/200\n",
            "20/20 - 3s - loss: 0.6374 - accuracy: 0.3250 - val_loss: 0.6061 - val_accuracy: 0.2937 - 3s/epoch - 145ms/step\n",
            "Epoch 130/200\n",
            "20/20 - 3s - loss: 0.5584 - accuracy: 0.2438 - val_loss: 0.5700 - val_accuracy: 0.2562 - 3s/epoch - 130ms/step\n",
            "Epoch 131/200\n",
            "20/20 - 3s - loss: 0.6483 - accuracy: 0.3375 - val_loss: 0.6001 - val_accuracy: 0.7125 - 3s/epoch - 130ms/step\n",
            "Epoch 132/200\n",
            "20/20 - 3s - loss: 0.5885 - accuracy: 0.7250 - val_loss: 0.5768 - val_accuracy: 0.7375 - 3s/epoch - 130ms/step\n",
            "Epoch 133/200\n",
            "20/20 - 3s - loss: 0.5886 - accuracy: 0.7250 - val_loss: 0.5599 - val_accuracy: 0.7563 - 3s/epoch - 130ms/step\n",
            "Epoch 134/200\n",
            "20/20 - 3s - loss: 0.6177 - accuracy: 0.6938 - val_loss: 0.5655 - val_accuracy: 0.7500 - 3s/epoch - 147ms/step\n",
            "Epoch 135/200\n",
            "20/20 - 3s - loss: 0.5542 - accuracy: 0.7625 - val_loss: 0.5999 - val_accuracy: 0.7125 - 3s/epoch - 132ms/step\n",
            "Epoch 136/200\n",
            "20/20 - 3s - loss: 0.5533 - accuracy: 0.3250 - val_loss: 0.6068 - val_accuracy: 0.2937 - 3s/epoch - 130ms/step\n",
            "Epoch 137/200\n",
            "20/20 - 3s - loss: 0.5698 - accuracy: 0.2562 - val_loss: 0.6382 - val_accuracy: 0.3250 - 3s/epoch - 132ms/step\n",
            "Epoch 138/200\n",
            "20/20 - 3s - loss: 0.5052 - accuracy: 0.1937 - val_loss: 0.5559 - val_accuracy: 0.2438 - 3s/epoch - 131ms/step\n",
            "Epoch 139/200\n",
            "20/20 - 3s - loss: 0.5434 - accuracy: 0.2313 - val_loss: 0.5766 - val_accuracy: 0.2625 - 3s/epoch - 130ms/step\n",
            "Epoch 140/200\n",
            "20/20 - 3s - loss: 0.5627 - accuracy: 0.2500 - val_loss: 0.5693 - val_accuracy: 0.2562 - 3s/epoch - 129ms/step\n",
            "Epoch 141/200\n",
            "20/20 - 3s - loss: 0.5767 - accuracy: 0.2625 - val_loss: 0.6724 - val_accuracy: 0.3500 - 3s/epoch - 130ms/step\n",
            "Epoch 142/200\n",
            "20/20 - 3s - loss: 0.5830 - accuracy: 0.2688 - val_loss: 0.6094 - val_accuracy: 0.2937 - 3s/epoch - 128ms/step\n",
            "Epoch 143/200\n",
            "20/20 - 3s - loss: 0.5760 - accuracy: 0.2625 - val_loss: 0.5959 - val_accuracy: 0.2812 - 3s/epoch - 134ms/step\n",
            "Epoch 144/200\n",
            "20/20 - 3s - loss: 0.5561 - accuracy: 0.2438 - val_loss: 0.6372 - val_accuracy: 0.3187 - 3s/epoch - 131ms/step\n",
            "Epoch 145/200\n",
            "20/20 - 3s - loss: 0.6227 - accuracy: 0.4938 - val_loss: 0.6079 - val_accuracy: 0.7063 - 3s/epoch - 138ms/step\n",
            "Epoch 146/200\n",
            "20/20 - 3s - loss: 0.6325 - accuracy: 0.6812 - val_loss: 0.6370 - val_accuracy: 0.6750 - 3s/epoch - 131ms/step\n",
            "Epoch 147/200\n",
            "20/20 - 3s - loss: 0.6239 - accuracy: 0.6875 - val_loss: 0.5883 - val_accuracy: 0.7250 - 3s/epoch - 131ms/step\n",
            "Epoch 148/200\n",
            "20/20 - 3s - loss: 0.5773 - accuracy: 0.7375 - val_loss: 0.5999 - val_accuracy: 0.7125 - 3s/epoch - 130ms/step\n",
            "Epoch 149/200\n",
            "20/20 - 3s - loss: 0.5355 - accuracy: 0.7812 - val_loss: 0.6373 - val_accuracy: 0.6750 - 3s/epoch - 129ms/step\n",
            "Epoch 150/200\n",
            "20/20 - 3s - loss: 0.5697 - accuracy: 0.4313 - val_loss: 0.5947 - val_accuracy: 0.2812 - 3s/epoch - 129ms/step\n",
            "Epoch 151/200\n",
            "20/20 - 3s - loss: 0.5826 - accuracy: 0.2688 - val_loss: 0.6015 - val_accuracy: 0.2875 - 3s/epoch - 133ms/step\n",
            "Epoch 152/200\n",
            "20/20 - 3s - loss: 0.6388 - accuracy: 0.4625 - val_loss: 0.5943 - val_accuracy: 0.7188 - 3s/epoch - 136ms/step\n",
            "Epoch 153/200\n",
            "20/20 - 3s - loss: 0.5702 - accuracy: 0.7437 - val_loss: 0.5761 - val_accuracy: 0.7375 - 3s/epoch - 130ms/step\n",
            "Epoch 154/200\n",
            "20/20 - 3s - loss: 0.6008 - accuracy: 0.7125 - val_loss: 0.5821 - val_accuracy: 0.7312 - 3s/epoch - 131ms/step\n",
            "Epoch 155/200\n",
            "20/20 - 3s - loss: 0.6008 - accuracy: 0.7125 - val_loss: 0.5473 - val_accuracy: 0.7688 - 3s/epoch - 133ms/step\n",
            "Epoch 156/200\n",
            "20/20 - 3s - loss: 0.6292 - accuracy: 0.6812 - val_loss: 0.6403 - val_accuracy: 0.6687 - 3s/epoch - 128ms/step\n",
            "Epoch 157/200\n",
            "20/20 - 3s - loss: 0.6172 - accuracy: 0.6938 - val_loss: 0.6055 - val_accuracy: 0.7063 - 3s/epoch - 133ms/step\n",
            "Epoch 158/200\n",
            "20/20 - 3s - loss: 0.6056 - accuracy: 0.7063 - val_loss: 0.5725 - val_accuracy: 0.7437 - 3s/epoch - 129ms/step\n",
            "Epoch 159/200\n",
            "20/20 - 3s - loss: 0.5836 - accuracy: 0.7312 - val_loss: 0.5773 - val_accuracy: 0.7375 - 3s/epoch - 130ms/step\n",
            "Epoch 160/200\n",
            "20/20 - 3s - loss: 0.6556 - accuracy: 0.6500 - val_loss: 0.5676 - val_accuracy: 0.7500 - 3s/epoch - 128ms/step\n",
            "Epoch 161/200\n",
            "20/20 - 3s - loss: 0.5630 - accuracy: 0.7563 - val_loss: 0.5021 - val_accuracy: 0.8250 - 3s/epoch - 130ms/step\n",
            "Epoch 162/200\n",
            "20/20 - 3s - loss: 0.5777 - accuracy: 0.7375 - val_loss: 0.6448 - val_accuracy: 0.6625 - 3s/epoch - 131ms/step\n",
            "Epoch 163/200\n",
            "20/20 - 3s - loss: 0.6449 - accuracy: 0.6500 - val_loss: 0.5999 - val_accuracy: 0.7125 - 3s/epoch - 131ms/step\n",
            "Epoch 164/200\n",
            "20/20 - 3s - loss: 0.5891 - accuracy: 0.7250 - val_loss: 0.5890 - val_accuracy: 0.7250 - 3s/epoch - 132ms/step\n",
            "Epoch 165/200\n",
            "20/20 - 3s - loss: 0.5947 - accuracy: 0.5188 - val_loss: 0.5885 - val_accuracy: 0.2750 - 3s/epoch - 132ms/step\n",
            "Epoch 166/200\n",
            "20/20 - 3s - loss: 0.5834 - accuracy: 0.5688 - val_loss: 0.5602 - val_accuracy: 0.2438 - 3s/epoch - 132ms/step\n",
            "Epoch 167/200\n",
            "20/20 - 3s - loss: 0.6060 - accuracy: 0.2937 - val_loss: 0.5942 - val_accuracy: 0.2812 - 3s/epoch - 138ms/step\n",
            "Epoch 168/200\n",
            "20/20 - 3s - loss: 0.6286 - accuracy: 0.3187 - val_loss: 0.5999 - val_accuracy: 0.2875 - 3s/epoch - 129ms/step\n",
            "Epoch 169/200\n",
            "20/20 - 3s - loss: 0.5777 - accuracy: 0.3782 - val_loss: 0.6114 - val_accuracy: 0.3000 - 3s/epoch - 130ms/step\n",
            "Epoch 170/200\n",
            "20/20 - 3s - loss: 0.5887 - accuracy: 0.2750 - val_loss: 0.5358 - val_accuracy: 0.2188 - 3s/epoch - 130ms/step\n",
            "Epoch 171/200\n",
            "20/20 - 3s - loss: 0.5771 - accuracy: 0.2625 - val_loss: 0.5763 - val_accuracy: 0.2625 - 3s/epoch - 131ms/step\n",
            "Epoch 172/200\n",
            "20/20 - 3s - loss: 0.6001 - accuracy: 0.2875 - val_loss: 0.5823 - val_accuracy: 0.2688 - 3s/epoch - 130ms/step\n",
            "Epoch 173/200\n",
            "20/20 - 3s - loss: 0.5712 - accuracy: 0.2562 - val_loss: 0.6061 - val_accuracy: 0.2937 - 3s/epoch - 131ms/step\n",
            "Epoch 174/200\n",
            "20/20 - 3s - loss: 0.5945 - accuracy: 0.2812 - val_loss: 0.6001 - val_accuracy: 0.2875 - 3s/epoch - 126ms/step\n",
            "Epoch 175/200\n",
            "20/20 - 3s - loss: 0.5943 - accuracy: 0.2812 - val_loss: 0.6182 - val_accuracy: 0.3063 - 3s/epoch - 134ms/step\n",
            "Epoch 176/200\n",
            "20/20 - 3s - loss: 0.5767 - accuracy: 0.2625 - val_loss: 0.6060 - val_accuracy: 0.2937 - 3s/epoch - 132ms/step\n",
            "Epoch 177/200\n",
            "20/20 - 3s - loss: 0.5942 - accuracy: 0.2812 - val_loss: 0.6003 - val_accuracy: 0.2875 - 3s/epoch - 133ms/step\n",
            "Epoch 178/200\n",
            "20/20 - 3s - loss: 0.6599 - accuracy: 0.3875 - val_loss: 0.5363 - val_accuracy: 0.7812 - 3s/epoch - 132ms/step\n",
            "Epoch 179/200\n",
            "20/20 - 3s - loss: 0.5670 - accuracy: 0.7500 - val_loss: 0.5717 - val_accuracy: 0.7437 - 3s/epoch - 129ms/step\n",
            "Epoch 180/200\n",
            "20/20 - 3s - loss: 0.6005 - accuracy: 0.7125 - val_loss: 0.5767 - val_accuracy: 0.7375 - 3s/epoch - 132ms/step\n",
            "Epoch 181/200\n",
            "20/20 - 3s - loss: 0.5768 - accuracy: 0.7375 - val_loss: 0.6174 - val_accuracy: 0.6938 - 3s/epoch - 133ms/step\n",
            "Epoch 182/200\n",
            "20/20 - 3s - loss: 0.6059 - accuracy: 0.6938 - val_loss: 0.6464 - val_accuracy: 0.6625 - 3s/epoch - 132ms/step\n",
            "Epoch 183/200\n",
            "20/20 - 3s - loss: 0.6233 - accuracy: 0.6875 - val_loss: 0.6113 - val_accuracy: 0.7000 - 3s/epoch - 135ms/step\n",
            "Epoch 184/200\n",
            "20/20 - 3s - loss: 0.5894 - accuracy: 0.7250 - val_loss: 0.5607 - val_accuracy: 0.7563 - 3s/epoch - 132ms/step\n",
            "Epoch 185/200\n",
            "20/20 - 3s - loss: 0.5832 - accuracy: 0.7312 - val_loss: 0.5652 - val_accuracy: 0.2500 - 3s/epoch - 129ms/step\n",
            "Epoch 186/200\n",
            "20/20 - 3s - loss: 0.5713 - accuracy: 0.2562 - val_loss: 0.5821 - val_accuracy: 0.2688 - 3s/epoch - 128ms/step\n",
            "Epoch 187/200\n",
            "20/20 - 3s - loss: 0.6243 - accuracy: 0.3125 - val_loss: 0.5883 - val_accuracy: 0.2750 - 3s/epoch - 130ms/step\n",
            "Epoch 188/200\n",
            "20/20 - 3s - loss: 0.6294 - accuracy: 0.7063 - val_loss: 0.6332 - val_accuracy: 0.6750 - 3s/epoch - 129ms/step\n",
            "Epoch 189/200\n",
            "20/20 - 3s - loss: 0.6112 - accuracy: 0.7000 - val_loss: 0.5834 - val_accuracy: 0.7312 - 3s/epoch - 131ms/step\n",
            "Epoch 190/200\n",
            "20/20 - 3s - loss: 0.6165 - accuracy: 0.6938 - val_loss: 0.5565 - val_accuracy: 0.7625 - 3s/epoch - 129ms/step\n",
            "Epoch 191/200\n",
            "20/20 - 3s - loss: 0.5618 - accuracy: 0.7563 - val_loss: 0.6055 - val_accuracy: 0.7063 - 3s/epoch - 127ms/step\n",
            "Epoch 192/200\n",
            "20/20 - 3s - loss: 0.5659 - accuracy: 0.3500 - val_loss: 0.5763 - val_accuracy: 0.2625 - 3s/epoch - 130ms/step\n",
            "Epoch 193/200\n",
            "20/20 - 3s - loss: 0.5823 - accuracy: 0.2688 - val_loss: 0.6061 - val_accuracy: 0.2937 - 3s/epoch - 129ms/step\n",
            "Epoch 194/200\n",
            "20/20 - 3s - loss: 0.5825 - accuracy: 0.2688 - val_loss: 0.6005 - val_accuracy: 0.2875 - 3s/epoch - 129ms/step\n",
            "Epoch 195/200\n",
            "20/20 - 3s - loss: 0.6069 - accuracy: 0.2937 - val_loss: 0.5703 - val_accuracy: 0.2562 - 3s/epoch - 129ms/step\n",
            "Epoch 196/200\n",
            "20/20 - 3s - loss: 0.6126 - accuracy: 0.5250 - val_loss: 0.5942 - val_accuracy: 0.7188 - 3s/epoch - 128ms/step\n",
            "Epoch 197/200\n",
            "20/20 - 3s - loss: 0.5652 - accuracy: 0.4625 - val_loss: 0.5822 - val_accuracy: 0.2688 - 3s/epoch - 131ms/step\n",
            "Epoch 198/200\n",
            "20/20 - 3s - loss: 0.6064 - accuracy: 0.2937 - val_loss: 0.6242 - val_accuracy: 0.3125 - 3s/epoch - 132ms/step\n",
            "Epoch 199/200\n",
            "20/20 - 3s - loss: 0.6415 - accuracy: 0.4938 - val_loss: 0.5432 - val_accuracy: 0.7750 - 3s/epoch - 130ms/step\n",
            "Epoch 200/200\n",
            "20/20 - 3s - loss: 0.5951 - accuracy: 0.7188 - val_loss: 0.5890 - val_accuracy: 0.7250 - 3s/epoch - 130ms/step\n"
          ]
        }
      ]
    },
    {
      "cell_type": "markdown",
      "source": [
        "**Variation of Train and Validation loss and accuracy with number of epochs**"
      ],
      "metadata": {
        "id": "eMWEPS4xfOLe"
      }
    },
    {
      "cell_type": "code",
      "source": [
        "import matplotlib.pyplot as plt\n",
        "plt.rcParams[\"figure.figsize\"] = (18,9)\n",
        "\n",
        "# plot loss during training\n",
        "pyplot.subplot(211)\n",
        "pyplot.title('Loss')\n",
        "pyplot.plot(history.history['loss'], label='train')\n",
        "pyplot.plot(history.history['val_loss'], label='test')\n",
        "pyplot.legend()\n",
        "# plot accuracy during training\n",
        "pyplot.subplot(212)\n",
        "pyplot.title('Accuracy')\n",
        "pyplot.plot(history.history['accuracy'], label='train')\n",
        "pyplot.plot(history.history['val_accuracy'], label='test')\n",
        "pyplot.legend()\n",
        "pyplot.savefig('/content/drive/MyDrive/Assignments/Assignment 1/TrainTest_LossAccuracy_Graph_VGG16.png')\n",
        "pyplot.show()"
      ],
      "metadata": {
        "colab": {
          "base_uri": "https://localhost:8080/",
          "height": 553
        },
        "id": "dVYyDKsaWVAs",
        "outputId": "d2e6cee4-f066-4788-ba55-a054b448ee5a"
      },
      "execution_count": null,
      "outputs": [
        {
          "output_type": "display_data",
          "data": {
            "text/plain": [
              "<Figure size 1296x648 with 2 Axes>"
            ],
            "image/png": "[encoded data removed]"
          },
          "metadata": {
            "needs_background": "light"
          }
        }
      ]
    },
    {
      "cell_type": "markdown",
      "source": [
        "**Generating predictions on test set: Benign and Malignant**"
      ],
      "metadata": {
        "id": "yIi_8dlKfTbH"
      }
    },
    {
      "cell_type": "code",
      "source": [
        "# import numpy as np\n",
        "# from keras.preprocessing import image\n",
        "# test_image =image.load_img('/content/drive/MyDrive/Assignments/Assignment 3/Custom_Dataset/Test/Benign/13.jpg',target_size = (224, 224))\n",
        "# test_image = image.img_to_array(test_image)\n",
        "# test_image = np.expand_dims(test_image, axis = 0)\n",
        "# result = classifier.predict(test_image)\n",
        "# #print(result[0][0])\n",
        "# training_set.class_indices\n",
        "# if result[0][0] == 1:\n",
        "#   prediction = 'Malignant'\n",
        "# else:\n",
        "#   prediction = 'Benign'\n",
        "# print(prediction)"
      ],
      "metadata": {
        "id": "eW_yvB3zfQ1f"
      },
      "execution_count": null,
      "outputs": []
    },
    {
      "cell_type": "code",
      "source": [
        "test_steps_per_epoch = np.math.ceil(test_set.samples / test_set.batch_size)\n",
        "\n",
        "predictions = classifier.predict_generator(test_set, steps=test_steps_per_epoch)\n",
        "# Get most likely class\n",
        "predicted_classes = np.argmax(predictions, axis=1)"
      ],
      "metadata": {
        "colab": {
          "base_uri": "https://localhost:8080/"
        },
        "id": "8LJm7lWJfQ4T",
        "outputId": "c6953852-b5cf-4038-be0c-4f14a5ec99ad"
      },
      "execution_count": null,
      "outputs": [
        {
          "output_type": "stream",
          "name": "stderr",
          "text": [
            "/usr/local/lib/python3.7/dist-packages/ipykernel_launcher.py:3: UserWarning: `Model.predict_generator` is deprecated and will be removed in a future version. Please use `Model.predict`, which supports generators.\n",
            "  This is separate from the ipykernel package so we can avoid doing imports until\n"
          ]
        }
      ]
    },
    {
      "cell_type": "code",
      "source": [
        "true_classes = test_set.classes\n",
        "class_labels = list(test_set.class_indices.keys())"
      ],
      "metadata": {
        "id": "wiiE9TXbOnqh"
      },
      "execution_count": null,
      "outputs": []
    },
    {
      "cell_type": "code",
      "source": [
        "predicted_classes"
      ],
      "metadata": {
        "colab": {
          "base_uri": "https://localhost:8080/"
        },
        "id": "TueCy0nGOpLF",
        "outputId": "30a2551a-5d79-4b84-c5f2-6b23c3272073"
      },
      "execution_count": null,
      "outputs": [
        {
          "output_type": "execute_result",
          "data": {
            "text/plain": [
              "array([0, 0, 0, 0, 0, 0, 0, 0, 0, 0, 0, 0, 0, 0, 0, 0, 0, 0, 0, 0, 0, 0,\n",
              "       0, 0, 0, 0, 0, 0, 0, 0, 0, 0, 0, 0, 0, 0, 0, 0, 0, 0, 0, 0, 0, 0,\n",
              "       0, 0, 0, 0, 0, 0, 0, 0, 0, 0, 0, 0, 0, 0, 0, 0, 0, 0, 0, 0, 0, 0,\n",
              "       0, 0, 0, 0, 0, 0, 0, 0, 0, 0, 0, 0, 0, 0, 0, 0, 0, 0, 0, 0, 0, 0,\n",
              "       0, 0, 0, 0, 0, 0, 0, 0, 0, 0, 0, 0, 0, 0, 0, 0, 0, 0, 0, 0, 0, 0,\n",
              "       0, 0, 0, 0, 0, 0, 0, 0, 0, 0, 0, 0, 0, 0, 0, 0, 0, 0, 0, 0, 0, 0,\n",
              "       0, 0, 0, 0, 0, 0, 0, 0, 0, 0, 0, 0, 0, 0, 0, 0, 0, 0, 0, 0, 0, 0,\n",
              "       0, 0, 0, 0, 0, 0, 0, 0, 0, 0, 0, 0, 0, 0, 0, 0, 0, 0, 0, 0, 0, 0,\n",
              "       0, 0, 0, 0, 0, 0, 0, 0, 0, 0, 0, 0, 0, 0, 0, 0, 0, 0, 0, 0, 0, 0,\n",
              "       0, 0, 0, 0, 0, 0, 0, 0, 0, 0, 0, 0, 0, 0, 0, 0, 0, 0, 0, 0, 0, 0,\n",
              "       0, 0, 0, 0, 0, 0, 0, 0, 0, 0, 0, 0, 0, 0, 0, 0, 0, 0, 0, 0, 0, 0,\n",
              "       0, 0, 0, 0, 0, 0, 0, 0, 0, 0, 0, 0, 0, 0, 0, 0, 0, 0, 0, 0, 0, 0,\n",
              "       0, 0, 0, 0, 0, 0, 0, 0, 0, 0, 0, 0, 0, 0, 0, 0, 0, 0, 0, 0, 0, 0,\n",
              "       0, 0, 0, 0, 0, 0, 0, 0, 0, 0, 0, 0, 0, 0, 0, 0, 0, 0, 0, 0, 0, 0,\n",
              "       0, 0, 0, 0, 0, 0, 0, 0, 0, 0, 0, 0, 0, 0, 0, 0, 0, 0, 0, 0, 0, 0,\n",
              "       0, 0, 0, 0, 0, 0, 0, 0, 0, 0, 0, 0, 0, 0, 0, 0, 0, 0, 0, 0, 0, 0,\n",
              "       0, 0, 0, 0, 0, 0, 0, 0, 0, 0, 0, 0, 0, 0, 0, 0, 0, 0, 0, 0, 0, 0,\n",
              "       0, 0, 0, 0, 0, 0, 0, 0, 0, 0, 0, 0, 0, 0, 0, 0, 0, 0, 0, 0, 0, 0,\n",
              "       0, 0, 0, 0, 0, 0, 0, 0, 0, 0, 0, 0, 0, 0, 0, 0, 0, 0, 0, 0, 0, 0,\n",
              "       0, 0, 0, 0, 0, 0, 0, 0, 0, 0, 0, 0, 0, 0, 0, 0, 0, 0, 0, 0, 0, 0,\n",
              "       0, 0, 0, 0, 0, 0, 0, 0, 0, 0, 0, 0, 0, 0, 0, 0, 0, 0, 0, 0, 0, 0,\n",
              "       0, 0, 0, 0, 0, 0, 0, 0, 0, 0, 0, 0, 0, 0, 0, 0, 0, 0, 0, 0, 0, 0,\n",
              "       0, 0, 0, 0, 0, 0, 0, 0, 0, 0, 0, 0, 0, 0, 0, 0, 0, 0, 0, 0, 0, 0,\n",
              "       0, 0, 0, 0, 0, 0, 0, 0, 0, 0, 0, 0, 0, 0])"
            ]
          },
          "metadata": {},
          "execution_count": 29
        }
      ]
    },
    {
      "cell_type": "code",
      "source": [
        "true_classes"
      ],
      "metadata": {
        "colab": {
          "base_uri": "https://localhost:8080/"
        },
        "id": "kwOcTsDwOp4L",
        "outputId": "f627459e-9028-47ff-9745-b23cf2c5915d"
      },
      "execution_count": null,
      "outputs": [
        {
          "output_type": "execute_result",
          "data": {
            "text/plain": [
              "array([0, 0, 0, 0, 0, 0, 0, 0, 0, 0, 0, 0, 0, 0, 0, 0, 0, 0, 0, 0, 0, 0,\n",
              "       0, 0, 0, 0, 0, 0, 0, 0, 0, 0, 0, 0, 0, 0, 0, 0, 0, 0, 0, 0, 0, 0,\n",
              "       0, 0, 0, 0, 0, 0, 0, 0, 0, 0, 0, 0, 0, 0, 0, 0, 0, 0, 0, 0, 0, 0,\n",
              "       0, 0, 0, 0, 0, 0, 0, 0, 0, 0, 0, 0, 0, 0, 0, 0, 0, 0, 0, 0, 0, 0,\n",
              "       0, 0, 0, 0, 0, 0, 0, 0, 0, 0, 0, 0, 0, 0, 0, 0, 0, 0, 0, 0, 0, 0,\n",
              "       0, 0, 0, 0, 0, 0, 0, 0, 0, 0, 0, 0, 0, 0, 0, 0, 0, 0, 0, 0, 0, 0,\n",
              "       0, 0, 0, 0, 0, 0, 0, 0, 0, 0, 0, 0, 0, 0, 0, 0, 0, 0, 0, 0, 0, 0,\n",
              "       0, 0, 0, 0, 0, 0, 0, 0, 0, 0, 0, 0, 0, 0, 0, 0, 0, 0, 0, 0, 0, 0,\n",
              "       0, 0, 0, 0, 0, 0, 0, 0, 0, 0, 0, 0, 0, 0, 0, 0, 0, 0, 0, 0, 0, 0,\n",
              "       0, 0, 0, 0, 0, 0, 0, 0, 0, 0, 0, 0, 0, 0, 0, 0, 0, 0, 0, 0, 0, 0,\n",
              "       0, 0, 0, 0, 0, 0, 0, 0, 0, 0, 0, 0, 0, 0, 0, 0, 0, 0, 0, 0, 0, 0,\n",
              "       0, 0, 0, 0, 0, 0, 0, 0, 0, 0, 0, 0, 0, 0, 0, 0, 0, 0, 0, 0, 0, 0,\n",
              "       0, 0, 0, 0, 0, 0, 0, 0, 0, 0, 0, 0, 0, 0, 0, 0, 0, 0, 0, 0, 0, 0,\n",
              "       0, 0, 0, 0, 0, 0, 0, 0, 0, 0, 0, 0, 0, 0, 0, 0, 0, 0, 0, 0, 0, 0,\n",
              "       0, 0, 0, 0, 0, 0, 0, 0, 0, 0, 0, 0, 0, 0, 0, 0, 0, 0, 0, 0, 0, 0,\n",
              "       0, 0, 0, 0, 0, 0, 0, 0, 0, 0, 0, 0, 0, 0, 0, 0, 0, 0, 0, 0, 0, 0,\n",
              "       0, 0, 0, 0, 0, 0, 0, 0, 0, 0, 0, 0, 0, 0, 0, 0, 0, 0, 0, 0, 0, 0,\n",
              "       0, 0, 1, 1, 1, 1, 1, 1, 1, 1, 1, 1, 1, 1, 1, 1, 1, 1, 1, 1, 1, 1,\n",
              "       1, 1, 1, 1, 1, 1, 1, 1, 1, 1, 1, 1, 1, 1, 1, 1, 1, 1, 1, 1, 1, 1,\n",
              "       1, 1, 1, 1, 1, 1, 1, 1, 1, 1, 1, 1, 1, 1, 1, 1, 1, 1, 1, 1, 1, 1,\n",
              "       1, 1, 1, 1, 1, 1, 1, 1, 1, 1, 1, 1, 1, 1, 1, 1, 1, 1, 1, 1, 1, 1,\n",
              "       1, 1, 1, 1, 1, 1, 1, 1, 1, 1, 1, 1, 1, 1, 1, 1, 1, 1, 1, 1, 1, 1,\n",
              "       1, 1, 1, 1, 1, 1, 1, 1, 1, 1, 1, 1, 1, 1, 1, 1, 1, 1, 1, 1, 1, 1,\n",
              "       1, 1, 1, 1, 1, 1, 1, 1, 1, 1, 1, 1, 1, 1], dtype=int32)"
            ]
          },
          "metadata": {},
          "execution_count": 30
        }
      ]
    },
    {
      "cell_type": "markdown",
      "source": [
        "**Generating model evaluation metrics on test set like confusion matrix, precision, recall,F1 score**"
      ],
      "metadata": {
        "id": "o6qDmGiZfjG8"
      }
    },
    {
      "cell_type": "code",
      "source": [
        "import sklearn.metrics as metrics\n",
        "report = metrics.classification_report(true_classes, predicted_classes, target_names=class_labels)\n",
        "print(report)"
      ],
      "metadata": {
        "colab": {
          "base_uri": "https://localhost:8080/"
        },
        "id": "VhkSWsZffeoz",
        "outputId": "d1176dca-8a75-44de-a506-85e8f06ba901"
      },
      "execution_count": null,
      "outputs": [
        {
          "output_type": "stream",
          "name": "stdout",
          "text": [
            "              precision    recall  f1-score   support\n",
            "\n",
            "      Benign       0.72      1.00      0.84       376\n",
            "   Malignant       0.00      0.00      0.00       144\n",
            "\n",
            "    accuracy                           0.72       520\n",
            "   macro avg       0.36      0.50      0.42       520\n",
            "weighted avg       0.52      0.72      0.61       520\n",
            "\n"
          ]
        },
        {
          "output_type": "stream",
          "name": "stderr",
          "text": [
            "/usr/local/lib/python3.7/dist-packages/sklearn/metrics/_classification.py:1318: UndefinedMetricWarning: Precision and F-score are ill-defined and being set to 0.0 in labels with no predicted samples. Use `zero_division` parameter to control this behavior.\n",
            "  _warn_prf(average, modifier, msg_start, len(result))\n",
            "/usr/local/lib/python3.7/dist-packages/sklearn/metrics/_classification.py:1318: UndefinedMetricWarning: Precision and F-score are ill-defined and being set to 0.0 in labels with no predicted samples. Use `zero_division` parameter to control this behavior.\n",
            "  _warn_prf(average, modifier, msg_start, len(result))\n",
            "/usr/local/lib/python3.7/dist-packages/sklearn/metrics/_classification.py:1318: UndefinedMetricWarning: Precision and F-score are ill-defined and being set to 0.0 in labels with no predicted samples. Use `zero_division` parameter to control this behavior.\n",
            "  _warn_prf(average, modifier, msg_start, len(result))\n"
          ]
        }
      ]
    },
    {
      "cell_type": "code",
      "source": [
        "confusion_matrix = metrics.confusion_matrix(y_true=true_classes, y_pred=predicted_classes)"
      ],
      "metadata": {
        "id": "lR09hcA2ferl"
      },
      "execution_count": null,
      "outputs": []
    },
    {
      "cell_type": "code",
      "source": [
        "len(true_classes)"
      ],
      "metadata": {
        "colab": {
          "base_uri": "https://localhost:8080/"
        },
        "id": "pZgO5Rdvfeuz",
        "outputId": "355999a1-b560-4477-8c7b-b2312662bd82"
      },
      "execution_count": null,
      "outputs": [
        {
          "output_type": "execute_result",
          "data": {
            "text/plain": [
              "520"
            ]
          },
          "metadata": {},
          "execution_count": 33
        }
      ]
    },
    {
      "cell_type": "code",
      "source": [
        "len(predicted_classes)"
      ],
      "metadata": {
        "colab": {
          "base_uri": "https://localhost:8080/"
        },
        "id": "e7gxVuAofew6",
        "outputId": "511dea93-47be-4727-dd08-335eb4aef62a"
      },
      "execution_count": null,
      "outputs": [
        {
          "output_type": "execute_result",
          "data": {
            "text/plain": [
              "520"
            ]
          },
          "metadata": {},
          "execution_count": 34
        }
      ]
    },
    {
      "cell_type": "code",
      "source": [
        "confusion_matrix"
      ],
      "metadata": {
        "colab": {
          "base_uri": "https://localhost:8080/"
        },
        "id": "B8fByiKfgnmf",
        "outputId": "87b2f0c5-8eb2-43a1-a85c-74531a5846c4"
      },
      "execution_count": null,
      "outputs": [
        {
          "output_type": "execute_result",
          "data": {
            "text/plain": [
              "array([[376,   0],\n",
              "       [144,   0]])"
            ]
          },
          "metadata": {},
          "execution_count": 35
        }
      ]
    },
    {
      "cell_type": "code",
      "source": [
        "import seaborn as sns\n",
        "import matplotlib.pyplot as plt\n",
        "\n",
        "plt.rcParams[\"figure.figsize\"] = (6,5)\n",
        "ax= plt.subplot()\n",
        "sns.heatmap(confusion_matrix, annot=True, fmt='g', ax=ax, annot_kws={\"fontsize\":18});  #annot=True to annotate cells, ftm='g' to disable scientific notation\n",
        "\n",
        "# labels, title and ticks\n",
        "ax.set_xlabel('Predicted labels', fontsize=18);\n",
        "ax.set_ylabel('True labels', fontsize=18);\n",
        "ax.set_title('Confusion Matrix',fontsize=22);\n",
        "ax.xaxis.set_ticklabels(['Benign', 'Malignant'],fontsize=14);\n",
        "ax.yaxis.set_ticklabels(['Benign', 'Malignant'],fontsize=14);\n",
        "\n",
        "plt.savefig('/content/drive/MyDrive/Assignments/Assignment 3/Confusion_Matrix_VGG16.png')"
      ],
      "metadata": {
        "colab": {
          "base_uri": "https://localhost:8080/",
          "height": 368
        },
        "id": "7U9YK3pBfsUl",
        "outputId": "307ef0f6-c51f-4c51-a12e-5f823bf2a2d7"
      },
      "execution_count": null,
      "outputs": [
        {
          "output_type": "display_data",
          "data": {
            "text/plain": [
              "<Figure size 432x360 with 2 Axes>"
            ],
            "image/png": "[encoded data removed]"
          },
          "metadata": {
            "needs_background": "light"
          }
        }
      ]
    },
    {
      "cell_type": "markdown",
      "source": [
        "Val accuracy: 88.7%, Test accuracy: 86.4%"
      ],
      "metadata": {
        "id": "71sX--nA6iyb"
      }
    },
    {
      "cell_type": "code",
      "source": [],
      "metadata": {
        "id": "blOuHlGQfsXb"
      },
      "execution_count": null,
      "outputs": []
    },
    {
      "cell_type": "code",
      "source": [],
      "metadata": {
        "id": "qskWxJhQfsaG"
      },
      "execution_count": null,
      "outputs": []
    },
    {
      "cell_type": "code",
      "source": [],
      "metadata": {
        "id": "zonwNh_Gfsc3"
      },
      "execution_count": null,
      "outputs": []
    },
    {
      "cell_type": "code",
      "source": [],
      "metadata": {
        "id": "r7cFruFWgnqd"
      },
      "execution_count": null,
      "outputs": []
    },
    {
      "cell_type": "code",
      "source": [],
      "metadata": {
        "id": "Nz2wPufngn3P"
      },
      "execution_count": null,
      "outputs": []
    }
  ]
}